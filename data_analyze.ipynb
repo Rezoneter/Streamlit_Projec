{
 "cells": [
  {
   "cell_type": "code",
   "execution_count": 47,
   "id": "76631c14",
   "metadata": {},
   "outputs": [],
   "source": [
    "import pandas as pd\n",
    "import numpy as np\n",
    "import matplotlib.pyplot as plt\n",
    "import seaborn as sb"
   ]
  },
  {
   "cell_type": "code",
   "execution_count": null,
   "id": "2202245a",
   "metadata": {},
   "outputs": [],
   "source": [
    "# kda cs gold 를 입력해주면 승률을 계산해주는 AI"
   ]
  },
  {
   "cell_type": "code",
   "execution_count": null,
   "id": "5c948d34",
   "metadata": {},
   "outputs": [],
   "source": []
  },
  {
   "cell_type": "code",
   "execution_count": null,
   "id": "d6afe38b",
   "metadata": {},
   "outputs": [],
   "source": []
  },
  {
   "cell_type": "code",
   "execution_count": 10,
   "id": "69c6c24a",
   "metadata": {},
   "outputs": [],
   "source": [
    "df = pd.read_csv('./data/all_cards.csv')"
   ]
  },
  {
   "cell_type": "code",
   "execution_count": 11,
   "id": "4c0f150c",
   "metadata": {},
   "outputs": [
    {
     "data": {
      "text/html": [
       "<div>\n",
       "<style scoped>\n",
       "    .dataframe tbody tr th:only-of-type {\n",
       "        vertical-align: middle;\n",
       "    }\n",
       "\n",
       "    .dataframe tbody tr th {\n",
       "        vertical-align: top;\n",
       "    }\n",
       "\n",
       "    .dataframe thead th {\n",
       "        text-align: right;\n",
       "    }\n",
       "</style>\n",
       "<table border=\"1\" class=\"dataframe\">\n",
       "  <thead>\n",
       "    <tr style=\"text-align: right;\">\n",
       "      <th></th>\n",
       "      <th>id</th>\n",
       "      <th>name</th>\n",
       "      <th>type</th>\n",
       "      <th>frameType</th>\n",
       "      <th>description</th>\n",
       "      <th>level</th>\n",
       "      <th>atk</th>\n",
       "      <th>def</th>\n",
       "      <th>race</th>\n",
       "      <th>attribute</th>\n",
       "      <th>archetype</th>\n",
       "    </tr>\n",
       "  </thead>\n",
       "  <tbody>\n",
       "    <tr>\n",
       "      <th>0</th>\n",
       "      <td>34541863</td>\n",
       "      <td>\"A\" Cell Breeding Device</td>\n",
       "      <td>Spell Card</td>\n",
       "      <td>spell</td>\n",
       "      <td>During each of your Standby Phases  put 1 A-Co...</td>\n",
       "      <td>NaN</td>\n",
       "      <td>NaN</td>\n",
       "      <td>NaN</td>\n",
       "      <td>Continuous</td>\n",
       "      <td>NaN</td>\n",
       "      <td>Alien</td>\n",
       "    </tr>\n",
       "    <tr>\n",
       "      <th>1</th>\n",
       "      <td>64163367</td>\n",
       "      <td>\"A\" Cell Incubator</td>\n",
       "      <td>Spell Card</td>\n",
       "      <td>spell</td>\n",
       "      <td>Each time an A-Counter(s) is removed from play...</td>\n",
       "      <td>NaN</td>\n",
       "      <td>NaN</td>\n",
       "      <td>NaN</td>\n",
       "      <td>Continuous</td>\n",
       "      <td>NaN</td>\n",
       "      <td>Alien</td>\n",
       "    </tr>\n",
       "    <tr>\n",
       "      <th>2</th>\n",
       "      <td>91231901</td>\n",
       "      <td>\"A\" Cell Recombination Device</td>\n",
       "      <td>Spell Card</td>\n",
       "      <td>spell</td>\n",
       "      <td>Target 1 face-up monster on the field; send 1 ...</td>\n",
       "      <td>NaN</td>\n",
       "      <td>NaN</td>\n",
       "      <td>NaN</td>\n",
       "      <td>Quick-Play</td>\n",
       "      <td>NaN</td>\n",
       "      <td>Alien</td>\n",
       "    </tr>\n",
       "    <tr>\n",
       "      <th>3</th>\n",
       "      <td>73262676</td>\n",
       "      <td>\"A\" Cell Scatter Burst</td>\n",
       "      <td>Spell Card</td>\n",
       "      <td>spell</td>\n",
       "      <td>Select 1 face-up \"Alien\" monster you control. ...</td>\n",
       "      <td>NaN</td>\n",
       "      <td>NaN</td>\n",
       "      <td>NaN</td>\n",
       "      <td>Quick-Play</td>\n",
       "      <td>NaN</td>\n",
       "      <td>Alien</td>\n",
       "    </tr>\n",
       "    <tr>\n",
       "      <th>4</th>\n",
       "      <td>98319530</td>\n",
       "      <td>\"Infernoble Arms - Almace\"</td>\n",
       "      <td>Spell Card</td>\n",
       "      <td>spell</td>\n",
       "      <td>While this card is equipped to a monster: You ...</td>\n",
       "      <td>NaN</td>\n",
       "      <td>NaN</td>\n",
       "      <td>NaN</td>\n",
       "      <td>Equip</td>\n",
       "      <td>NaN</td>\n",
       "      <td>Infernoble Arms</td>\n",
       "    </tr>\n",
       "    <tr>\n",
       "      <th>...</th>\n",
       "      <td>...</td>\n",
       "      <td>...</td>\n",
       "      <td>...</td>\n",
       "      <td>...</td>\n",
       "      <td>...</td>\n",
       "      <td>...</td>\n",
       "      <td>...</td>\n",
       "      <td>...</td>\n",
       "      <td>...</td>\n",
       "      <td>...</td>\n",
       "      <td>...</td>\n",
       "    </tr>\n",
       "    <tr>\n",
       "      <th>12845</th>\n",
       "      <td>2648201</td>\n",
       "      <td>ZW - Sleipnir Mail</td>\n",
       "      <td>Effect Monster</td>\n",
       "      <td>effect</td>\n",
       "      <td>You can target 1 \"Utopia\" monster you control;...</td>\n",
       "      <td>4.0</td>\n",
       "      <td>1000.0</td>\n",
       "      <td>1000.0</td>\n",
       "      <td>Beast</td>\n",
       "      <td>LIGHT</td>\n",
       "      <td>Utopia</td>\n",
       "    </tr>\n",
       "    <tr>\n",
       "      <th>12846</th>\n",
       "      <td>95886782</td>\n",
       "      <td>ZW - Sylphid Wing</td>\n",
       "      <td>Effect Monster</td>\n",
       "      <td>effect</td>\n",
       "      <td>You can only control 1 \"ZW - Sylphid Wing\". Yo...</td>\n",
       "      <td>4.0</td>\n",
       "      <td>800.0</td>\n",
       "      <td>1600.0</td>\n",
       "      <td>Beast</td>\n",
       "      <td>LIGHT</td>\n",
       "      <td>Zexal</td>\n",
       "    </tr>\n",
       "    <tr>\n",
       "      <th>12847</th>\n",
       "      <td>81471108</td>\n",
       "      <td>ZW - Tornado Bringer</td>\n",
       "      <td>Effect Monster</td>\n",
       "      <td>effect</td>\n",
       "      <td>You can target 1 \"Utopia\" monster you control;...</td>\n",
       "      <td>5.0</td>\n",
       "      <td>1300.0</td>\n",
       "      <td>1800.0</td>\n",
       "      <td>Dragon</td>\n",
       "      <td>WIND</td>\n",
       "      <td>Utopia</td>\n",
       "    </tr>\n",
       "    <tr>\n",
       "      <th>12848</th>\n",
       "      <td>18865703</td>\n",
       "      <td>ZW - Ultimate Shield</td>\n",
       "      <td>Effect Monster</td>\n",
       "      <td>effect</td>\n",
       "      <td>When this card is Normal or Special Summoned: ...</td>\n",
       "      <td>4.0</td>\n",
       "      <td>0.0</td>\n",
       "      <td>2000.0</td>\n",
       "      <td>Aqua</td>\n",
       "      <td>EARTH</td>\n",
       "      <td>Utopia</td>\n",
       "    </tr>\n",
       "    <tr>\n",
       "      <th>12849</th>\n",
       "      <td>76080032</td>\n",
       "      <td>ZW - Unicorn Spear</td>\n",
       "      <td>Effect Monster</td>\n",
       "      <td>effect</td>\n",
       "      <td>You can target 1 \"Number C39: Utopia Ray\" you ...</td>\n",
       "      <td>4.0</td>\n",
       "      <td>1900.0</td>\n",
       "      <td>0.0</td>\n",
       "      <td>Beast</td>\n",
       "      <td>LIGHT</td>\n",
       "      <td>Utopia</td>\n",
       "    </tr>\n",
       "  </tbody>\n",
       "</table>\n",
       "<p>12850 rows × 11 columns</p>\n",
       "</div>"
      ],
      "text/plain": [
       "             id                           name            type frameType  \\\n",
       "0      34541863       \"A\" Cell Breeding Device      Spell Card     spell   \n",
       "1      64163367             \"A\" Cell Incubator      Spell Card     spell   \n",
       "2      91231901  \"A\" Cell Recombination Device      Spell Card     spell   \n",
       "3      73262676         \"A\" Cell Scatter Burst      Spell Card     spell   \n",
       "4      98319530     \"Infernoble Arms - Almace\"      Spell Card     spell   \n",
       "...         ...                            ...             ...       ...   \n",
       "12845   2648201             ZW - Sleipnir Mail  Effect Monster    effect   \n",
       "12846  95886782              ZW - Sylphid Wing  Effect Monster    effect   \n",
       "12847  81471108           ZW - Tornado Bringer  Effect Monster    effect   \n",
       "12848  18865703           ZW - Ultimate Shield  Effect Monster    effect   \n",
       "12849  76080032             ZW - Unicorn Spear  Effect Monster    effect   \n",
       "\n",
       "                                             description  level     atk  \\\n",
       "0      During each of your Standby Phases  put 1 A-Co...    NaN     NaN   \n",
       "1      Each time an A-Counter(s) is removed from play...    NaN     NaN   \n",
       "2      Target 1 face-up monster on the field; send 1 ...    NaN     NaN   \n",
       "3      Select 1 face-up \"Alien\" monster you control. ...    NaN     NaN   \n",
       "4      While this card is equipped to a monster: You ...    NaN     NaN   \n",
       "...                                                  ...    ...     ...   \n",
       "12845  You can target 1 \"Utopia\" monster you control;...    4.0  1000.0   \n",
       "12846  You can only control 1 \"ZW - Sylphid Wing\". Yo...    4.0   800.0   \n",
       "12847  You can target 1 \"Utopia\" monster you control;...    5.0  1300.0   \n",
       "12848  When this card is Normal or Special Summoned: ...    4.0     0.0   \n",
       "12849  You can target 1 \"Number C39: Utopia Ray\" you ...    4.0  1900.0   \n",
       "\n",
       "          def        race attribute        archetype  \n",
       "0         NaN  Continuous       NaN            Alien  \n",
       "1         NaN  Continuous       NaN            Alien  \n",
       "2         NaN  Quick-Play       NaN            Alien  \n",
       "3         NaN  Quick-Play       NaN            Alien  \n",
       "4         NaN       Equip       NaN  Infernoble Arms  \n",
       "...       ...         ...       ...              ...  \n",
       "12845  1000.0       Beast     LIGHT           Utopia  \n",
       "12846  1600.0       Beast     LIGHT            Zexal  \n",
       "12847  1800.0      Dragon      WIND           Utopia  \n",
       "12848  2000.0        Aqua     EARTH           Utopia  \n",
       "12849     0.0       Beast     LIGHT           Utopia  \n",
       "\n",
       "[12850 rows x 11 columns]"
      ]
     },
     "execution_count": 11,
     "metadata": {},
     "output_type": "execute_result"
    }
   ],
   "source": [
    "df"
   ]
  },
  {
   "cell_type": "code",
   "execution_count": 12,
   "id": "2d0520c6",
   "metadata": {},
   "outputs": [
    {
     "data": {
      "text/html": [
       "<div>\n",
       "<style scoped>\n",
       "    .dataframe tbody tr th:only-of-type {\n",
       "        vertical-align: middle;\n",
       "    }\n",
       "\n",
       "    .dataframe tbody tr th {\n",
       "        vertical-align: top;\n",
       "    }\n",
       "\n",
       "    .dataframe thead th {\n",
       "        text-align: right;\n",
       "    }\n",
       "</style>\n",
       "<table border=\"1\" class=\"dataframe\">\n",
       "  <thead>\n",
       "    <tr style=\"text-align: right;\">\n",
       "      <th></th>\n",
       "      <th>id</th>\n",
       "      <th>name</th>\n",
       "      <th>type</th>\n",
       "      <th>frameType</th>\n",
       "      <th>description</th>\n",
       "      <th>level</th>\n",
       "      <th>atk</th>\n",
       "      <th>def</th>\n",
       "      <th>race</th>\n",
       "      <th>attribute</th>\n",
       "      <th>archetype</th>\n",
       "    </tr>\n",
       "  </thead>\n",
       "  <tbody>\n",
       "    <tr>\n",
       "      <th>0</th>\n",
       "      <td>False</td>\n",
       "      <td>False</td>\n",
       "      <td>False</td>\n",
       "      <td>False</td>\n",
       "      <td>False</td>\n",
       "      <td>True</td>\n",
       "      <td>True</td>\n",
       "      <td>True</td>\n",
       "      <td>False</td>\n",
       "      <td>True</td>\n",
       "      <td>False</td>\n",
       "    </tr>\n",
       "    <tr>\n",
       "      <th>1</th>\n",
       "      <td>False</td>\n",
       "      <td>False</td>\n",
       "      <td>False</td>\n",
       "      <td>False</td>\n",
       "      <td>False</td>\n",
       "      <td>True</td>\n",
       "      <td>True</td>\n",
       "      <td>True</td>\n",
       "      <td>False</td>\n",
       "      <td>True</td>\n",
       "      <td>False</td>\n",
       "    </tr>\n",
       "    <tr>\n",
       "      <th>2</th>\n",
       "      <td>False</td>\n",
       "      <td>False</td>\n",
       "      <td>False</td>\n",
       "      <td>False</td>\n",
       "      <td>False</td>\n",
       "      <td>True</td>\n",
       "      <td>True</td>\n",
       "      <td>True</td>\n",
       "      <td>False</td>\n",
       "      <td>True</td>\n",
       "      <td>False</td>\n",
       "    </tr>\n",
       "    <tr>\n",
       "      <th>3</th>\n",
       "      <td>False</td>\n",
       "      <td>False</td>\n",
       "      <td>False</td>\n",
       "      <td>False</td>\n",
       "      <td>False</td>\n",
       "      <td>True</td>\n",
       "      <td>True</td>\n",
       "      <td>True</td>\n",
       "      <td>False</td>\n",
       "      <td>True</td>\n",
       "      <td>False</td>\n",
       "    </tr>\n",
       "    <tr>\n",
       "      <th>4</th>\n",
       "      <td>False</td>\n",
       "      <td>False</td>\n",
       "      <td>False</td>\n",
       "      <td>False</td>\n",
       "      <td>False</td>\n",
       "      <td>True</td>\n",
       "      <td>True</td>\n",
       "      <td>True</td>\n",
       "      <td>False</td>\n",
       "      <td>True</td>\n",
       "      <td>False</td>\n",
       "    </tr>\n",
       "    <tr>\n",
       "      <th>...</th>\n",
       "      <td>...</td>\n",
       "      <td>...</td>\n",
       "      <td>...</td>\n",
       "      <td>...</td>\n",
       "      <td>...</td>\n",
       "      <td>...</td>\n",
       "      <td>...</td>\n",
       "      <td>...</td>\n",
       "      <td>...</td>\n",
       "      <td>...</td>\n",
       "      <td>...</td>\n",
       "    </tr>\n",
       "    <tr>\n",
       "      <th>12845</th>\n",
       "      <td>False</td>\n",
       "      <td>False</td>\n",
       "      <td>False</td>\n",
       "      <td>False</td>\n",
       "      <td>False</td>\n",
       "      <td>False</td>\n",
       "      <td>False</td>\n",
       "      <td>False</td>\n",
       "      <td>False</td>\n",
       "      <td>False</td>\n",
       "      <td>False</td>\n",
       "    </tr>\n",
       "    <tr>\n",
       "      <th>12846</th>\n",
       "      <td>False</td>\n",
       "      <td>False</td>\n",
       "      <td>False</td>\n",
       "      <td>False</td>\n",
       "      <td>False</td>\n",
       "      <td>False</td>\n",
       "      <td>False</td>\n",
       "      <td>False</td>\n",
       "      <td>False</td>\n",
       "      <td>False</td>\n",
       "      <td>False</td>\n",
       "    </tr>\n",
       "    <tr>\n",
       "      <th>12847</th>\n",
       "      <td>False</td>\n",
       "      <td>False</td>\n",
       "      <td>False</td>\n",
       "      <td>False</td>\n",
       "      <td>False</td>\n",
       "      <td>False</td>\n",
       "      <td>False</td>\n",
       "      <td>False</td>\n",
       "      <td>False</td>\n",
       "      <td>False</td>\n",
       "      <td>False</td>\n",
       "    </tr>\n",
       "    <tr>\n",
       "      <th>12848</th>\n",
       "      <td>False</td>\n",
       "      <td>False</td>\n",
       "      <td>False</td>\n",
       "      <td>False</td>\n",
       "      <td>False</td>\n",
       "      <td>False</td>\n",
       "      <td>False</td>\n",
       "      <td>False</td>\n",
       "      <td>False</td>\n",
       "      <td>False</td>\n",
       "      <td>False</td>\n",
       "    </tr>\n",
       "    <tr>\n",
       "      <th>12849</th>\n",
       "      <td>False</td>\n",
       "      <td>False</td>\n",
       "      <td>False</td>\n",
       "      <td>False</td>\n",
       "      <td>False</td>\n",
       "      <td>False</td>\n",
       "      <td>False</td>\n",
       "      <td>False</td>\n",
       "      <td>False</td>\n",
       "      <td>False</td>\n",
       "      <td>False</td>\n",
       "    </tr>\n",
       "  </tbody>\n",
       "</table>\n",
       "<p>12850 rows × 11 columns</p>\n",
       "</div>"
      ],
      "text/plain": [
       "          id   name   type  frameType  description  level    atk    def  \\\n",
       "0      False  False  False      False        False   True   True   True   \n",
       "1      False  False  False      False        False   True   True   True   \n",
       "2      False  False  False      False        False   True   True   True   \n",
       "3      False  False  False      False        False   True   True   True   \n",
       "4      False  False  False      False        False   True   True   True   \n",
       "...      ...    ...    ...        ...          ...    ...    ...    ...   \n",
       "12845  False  False  False      False        False  False  False  False   \n",
       "12846  False  False  False      False        False  False  False  False   \n",
       "12847  False  False  False      False        False  False  False  False   \n",
       "12848  False  False  False      False        False  False  False  False   \n",
       "12849  False  False  False      False        False  False  False  False   \n",
       "\n",
       "        race  attribute  archetype  \n",
       "0      False       True      False  \n",
       "1      False       True      False  \n",
       "2      False       True      False  \n",
       "3      False       True      False  \n",
       "4      False       True      False  \n",
       "...      ...        ...        ...  \n",
       "12845  False      False      False  \n",
       "12846  False      False      False  \n",
       "12847  False      False      False  \n",
       "12848  False      False      False  \n",
       "12849  False      False      False  \n",
       "\n",
       "[12850 rows x 11 columns]"
      ]
     },
     "execution_count": 12,
     "metadata": {},
     "output_type": "execute_result"
    }
   ],
   "source": [
    "df.isna()"
   ]
  },
  {
   "cell_type": "code",
   "execution_count": 13,
   "id": "1e012ba4",
   "metadata": {},
   "outputs": [
    {
     "data": {
      "text/plain": [
       "id                0\n",
       "name              0\n",
       "type              0\n",
       "frameType         0\n",
       "description       0\n",
       "level          4885\n",
       "atk            4494\n",
       "def            4884\n",
       "race              1\n",
       "attribute      4494\n",
       "archetype      5368\n",
       "dtype: int64"
      ]
     },
     "execution_count": 13,
     "metadata": {},
     "output_type": "execute_result"
    }
   ],
   "source": [
    "df.isna().sum()"
   ]
  },
  {
   "cell_type": "code",
   "execution_count": 14,
   "id": "7a95f374",
   "metadata": {},
   "outputs": [
    {
     "data": {
      "text/plain": [
       "Index(['id', 'name', 'type', 'frameType', 'description', 'level', 'atk', 'def',\n",
       "       'race', 'attribute', 'archetype'],\n",
       "      dtype='object')"
      ]
     },
     "execution_count": 14,
     "metadata": {},
     "output_type": "execute_result"
    }
   ],
   "source": [
    "df.columns"
   ]
  },
  {
   "cell_type": "code",
   "execution_count": 30,
   "id": "61c9ec3e",
   "metadata": {},
   "outputs": [
    {
     "data": {
      "text/plain": [
       "0          NaN\n",
       "1          NaN\n",
       "2          NaN\n",
       "3          NaN\n",
       "4          NaN\n",
       "         ...  \n",
       "12845    LIGHT\n",
       "12846    LIGHT\n",
       "12847     WIND\n",
       "12848    EARTH\n",
       "12849    LIGHT\n",
       "Name: attribute, Length: 12850, dtype: object"
      ]
     },
     "execution_count": 30,
     "metadata": {},
     "output_type": "execute_result"
    }
   ],
   "source": [
    "df['attribute']"
   ]
  },
  {
   "cell_type": "code",
   "execution_count": 33,
   "id": "673b869d",
   "metadata": {},
   "outputs": [
    {
     "data": {
      "text/plain": [
       "id         name                            type                   frameType  description                                                                                                                                                                                                                                                                                                                                                                                                                                                                                                                                                    level  atk     def     race     attribute  archetype             \n",
       "2511       Labrynth Cooclock               Effect Monster         effect     (Quick Effect): You can discard this card; this turn  you can activate 1 Normal Trap Card that was Set this turn  if you control a \"Labrynth\" monster. If a card(s) is sent from your hand to the GY to activate your Normal Trap Card or your \"Labrynth\" card or effect  except \"Labrynth Cooclock\"  while this card is in your GY (except during the Damage Step): You can add this card to your hand  or Special Summon it. You can only use each effect of \"Labrynth Cooclock\" once per turn.                                                              1.0    0.0     0.0     Fiend    DARK       Labrynth                  1\n",
       "65877963   Impcantation Chalislime         Ritual Effect Monster  ritual     You can Ritual Summon this card with \"Impcantation Inception\". You can reveal this card in your hand; discard 1 card  and if you do  Special Summon 1 \"Impcantation\" monster from your Deck  also  during the End Phase  lose 2500 LP if you did not Special Summon a Ritual Monster this turn after you resolved this effect. You can send 1 \"Impcantation\" card from your hand or face-up field to the GY  then target 1 monster your opponent controls; destroy it. You can only use 1 \"Impcantation Chalislime\" effect per turn  and only once that turn.  7.0    2500.0  1800.0  Aqua     DARK       Impcantation              1\n",
       "66309175   Predaplant Ambulomelides        Fusion Monster         fusion     2 \"Predaplant\" monsters  If this card is Fusion Summoned: You can add 1 \"Predaplant\" monster or 1 \"Predap\" Spell/Trap from your Deck  GY  or face-up Extra Deck to your hand. You can target 1 monster your opponent controls with a Predator Counter or 1 monster you control; Tribute it  and if you do  Special Summon 1 \"Predaplant\" monster from your Deck. You can only use each effect of \"Predaplant Ambulomelides\" once per turn.                                                                                                                     5.0    1000.0  2500.0  Plant    DARK       Predaplant                1\n",
       "66262416   Destiny HERO - Dreamer          Effect Monster         effect     During damage calculation  if your \"Destiny HERO\" monster battles and this card is in your GY: You can Special Summon this card  and if you do  your monster cannot be destroyed by that battle  also you take no battle damage from that battle. If Summoned this way  banish this card when it leaves the field. You can only use this effect of \"Destiny HERO - Dreamer\" once per turn.                                                                                                                                                                     1.0    0.0     600.0   Warrior  DARK       Destiny HERO              1\n",
       "66192538   Danmari @Ignister               Effect Monster         effect     When an attack is declared involving your \"@Ignister\" monster: You can Special Summon this card from your hand  and if you do  negate that attack. While you control a Link-6 monster (Quick Effect): You can banish this card from your field or GY  then target 1 face-up card your opponent controls; negate its effects until the end of this turn. You can only use each effect of \"Danmari @Ignister\" once per turn.                                                                                                                                     6.0    2300.0  0.0     Cyberse  DARK       @Ignister                 1\n",
       "                                                                                                                                                                                                                                                                                                                                                                                                                                                                                                                                                                                                                                                                                                                ..\n",
       "33334269   D/D Ghost                       Tuner Monster          effect     If this card is sent to the Graveyard: You can target 1 \"D/D\" monster or \"Dark Contract\" card in your Graveyard  except \"D/D Ghost\"; send 1 card from your Deck to the Graveyard with that name. If this card is banished: You can target 1 of your banished \"D/D\" monsters or \"Dark Contract\" cards  except \"D/D Ghost\"; return it to the Graveyard.                                                                                                                                                                                                          2.0    600.0   300.0   Fiend    DARK       D/D                       1\n",
       "33331231   Surgical Striker - H.A.M.P.     Effect Monster         effect     (This card is always treated as a \"Sky Striker\" card.)  If you control a \"Sky Striker Ace\" monster  you can Special Summon this card (from your hand) to either field by Tributing 1 monster from that field. You can only Special Summon \"Surgical Striker - H.A.M.P.\" once per turn this way. When this card is destroyed by battle: You can target 1 card your opponent controls; destroy it.                                                                                                                                                               8.0    2500.0  2500.0  Machine  DARK       Sky Striker               1\n",
       "33318980   Soldier Gaia the Fierce Knight  Effect Monster         effect     (Quick Effect): You can Tribute 1 Dragon Fusion Monster; Special Summon this card from your hand. If this card is Special Summoned: You can target 1 Attack Position monster on the field; change it to Defense Position. You can Tribute this card; add 1 Level 7 or higher Warrior monster from your Deck to your hand  except \"Soldier Gaia the Fierce Knight\". You can only use each effect of \"Soldier Gaia the Fierce Knight\" once per turn.                                                                                                             8.0    2600.0  2100.0  Warrior  DARK       Gaia The Fierce Knight    1\n",
       "33245030   Sphere Kuriboh                  Effect Monster         effect     When an opponent's monster declares an attack: You can send this card from your hand to the GY; change the attacking monster to Defense Position. When you Ritual Summon  you can banish this card from your GY as 1 of the monsters required for the Ritual Summon.                                                                                                                                                                                                                                                                                           1.0    300.0   200.0   Fiend    DARK       Kuriboh                   1\n",
       "101203048  Goblins' Crazy Beast            XYZ Monster            xyz        2+ Level 6 monsters  Once per turn (Quick Effect): You can target 1 Spell/Trap on the field; detach 2 materials from a monster(s) on the field  and if you do  attach that card to this card as material. If a monster(s) you control would be destroyed by card effect  you can detach 1 material from this card instead. If this card is in your GY: You can Special Summon this card  then you can attach 1 \"Goblin\" monster from your GY to it as material. You can only use this effect of \"Goblins' Crazy Beast\" once per Duel.                          6.0    2700.0  0.0     Fiend    DARK       Goblin                    1\n",
       "Name: count, Length: 1372, dtype: int64"
      ]
     },
     "execution_count": 33,
     "metadata": {},
     "output_type": "execute_result"
    }
   ],
   "source": [
    "df.loc[df['attribute'] == 'DARK'].value_counts()"
   ]
  },
  {
   "cell_type": "code",
   "execution_count": 40,
   "id": "17d93f4c",
   "metadata": {},
   "outputs": [
    {
     "data": {
      "text/html": [
       "<div>\n",
       "<style scoped>\n",
       "    .dataframe tbody tr th:only-of-type {\n",
       "        vertical-align: middle;\n",
       "    }\n",
       "\n",
       "    .dataframe tbody tr th {\n",
       "        vertical-align: top;\n",
       "    }\n",
       "\n",
       "    .dataframe thead th {\n",
       "        text-align: right;\n",
       "    }\n",
       "</style>\n",
       "<table border=\"1\" class=\"dataframe\">\n",
       "  <thead>\n",
       "    <tr style=\"text-align: right;\">\n",
       "      <th></th>\n",
       "      <th>id</th>\n",
       "      <th>level</th>\n",
       "      <th>atk</th>\n",
       "      <th>def</th>\n",
       "    </tr>\n",
       "  </thead>\n",
       "  <tbody>\n",
       "    <tr>\n",
       "      <th>count</th>\n",
       "      <td>1.285000e+04</td>\n",
       "      <td>7965.000000</td>\n",
       "      <td>8356.00000</td>\n",
       "      <td>7966.000000</td>\n",
       "    </tr>\n",
       "    <tr>\n",
       "      <th>mean</th>\n",
       "      <td>5.234691e+07</td>\n",
       "      <td>4.575895</td>\n",
       "      <td>1479.03303</td>\n",
       "      <td>1247.835802</td>\n",
       "    </tr>\n",
       "    <tr>\n",
       "      <th>std</th>\n",
       "      <td>3.926795e+07</td>\n",
       "      <td>2.402216</td>\n",
       "      <td>945.96842</td>\n",
       "      <td>868.478787</td>\n",
       "    </tr>\n",
       "    <tr>\n",
       "      <th>min</th>\n",
       "      <td>2.511000e+03</td>\n",
       "      <td>0.000000</td>\n",
       "      <td>0.00000</td>\n",
       "      <td>0.000000</td>\n",
       "    </tr>\n",
       "    <tr>\n",
       "      <th>25%</th>\n",
       "      <td>2.471133e+07</td>\n",
       "      <td>3.000000</td>\n",
       "      <td>800.00000</td>\n",
       "      <td>500.000000</td>\n",
       "    </tr>\n",
       "    <tr>\n",
       "      <th>50%</th>\n",
       "      <td>4.988088e+07</td>\n",
       "      <td>4.000000</td>\n",
       "      <td>1500.00000</td>\n",
       "      <td>1200.000000</td>\n",
       "    </tr>\n",
       "    <tr>\n",
       "      <th>75%</th>\n",
       "      <td>7.537976e+07</td>\n",
       "      <td>6.000000</td>\n",
       "      <td>2200.00000</td>\n",
       "      <td>1900.000000</td>\n",
       "    </tr>\n",
       "    <tr>\n",
       "      <th>max</th>\n",
       "      <td>5.010000e+08</td>\n",
       "      <td>13.000000</td>\n",
       "      <td>5000.00000</td>\n",
       "      <td>5000.000000</td>\n",
       "    </tr>\n",
       "  </tbody>\n",
       "</table>\n",
       "</div>"
      ],
      "text/plain": [
       "                 id        level         atk          def\n",
       "count  1.285000e+04  7965.000000  8356.00000  7966.000000\n",
       "mean   5.234691e+07     4.575895  1479.03303  1247.835802\n",
       "std    3.926795e+07     2.402216   945.96842   868.478787\n",
       "min    2.511000e+03     0.000000     0.00000     0.000000\n",
       "25%    2.471133e+07     3.000000   800.00000   500.000000\n",
       "50%    4.988088e+07     4.000000  1500.00000  1200.000000\n",
       "75%    7.537976e+07     6.000000  2200.00000  1900.000000\n",
       "max    5.010000e+08    13.000000  5000.00000  5000.000000"
      ]
     },
     "execution_count": 40,
     "metadata": {},
     "output_type": "execute_result"
    }
   ],
   "source": [
    "df.describe()"
   ]
  },
  {
   "cell_type": "code",
   "execution_count": 42,
   "id": "47063309",
   "metadata": {},
   "outputs": [
    {
     "data": {
      "text/plain": [
       "13.0"
      ]
     },
     "execution_count": 42,
     "metadata": {},
     "output_type": "execute_result"
    }
   ],
   "source": [
    "df['level'].max()"
   ]
  },
  {
   "cell_type": "code",
   "execution_count": 43,
   "id": "879784cf",
   "metadata": {},
   "outputs": [
    {
     "data": {
      "text/plain": [
       "5000.0"
      ]
     },
     "execution_count": 43,
     "metadata": {},
     "output_type": "execute_result"
    }
   ],
   "source": [
    "df['atk'].max()"
   ]
  },
  {
   "cell_type": "code",
   "execution_count": 45,
   "id": "9c10c8c9",
   "metadata": {},
   "outputs": [
    {
     "data": {
      "text/plain": [
       "5000.0"
      ]
     },
     "execution_count": 45,
     "metadata": {},
     "output_type": "execute_result"
    }
   ],
   "source": [
    "df['def'].max()"
   ]
  },
  {
   "cell_type": "code",
   "execution_count": 55,
   "id": "ebb49f94",
   "metadata": {},
   "outputs": [
    {
     "data": {
      "text/plain": [
       "7300     0.0\n",
       "1825     0.0\n",
       "7973     0.0\n",
       "7974     0.0\n",
       "7975     0.0\n",
       "        ... \n",
       "12799    NaN\n",
       "12802    NaN\n",
       "12808    NaN\n",
       "12813    NaN\n",
       "12815    NaN\n",
       "Name: level, Length: 12850, dtype: float64"
      ]
     },
     "execution_count": 55,
     "metadata": {},
     "output_type": "execute_result"
    }
   ],
   "source": [
    "sort_level = df['level'].sort_values()"
   ]
  },
  {
   "cell_type": "code",
   "execution_count": 58,
   "id": "46838c8d",
   "metadata": {
    "scrolled": false
   },
   "outputs": [
    {
     "name": "stderr",
     "output_type": "stream",
     "text": [
      "C:\\Users\\AWS_\\anaconda3\\envs\\streamlit39\\lib\\site-packages\\seaborn\\_oldcore.py:1498: FutureWarning: is_categorical_dtype is deprecated and will be removed in a future version. Use isinstance(dtype, CategoricalDtype) instead\n",
      "  if pd.api.types.is_categorical_dtype(vector):\n",
      "C:\\Users\\AWS_\\anaconda3\\envs\\streamlit39\\lib\\site-packages\\seaborn\\_oldcore.py:1498: FutureWarning: is_categorical_dtype is deprecated and will be removed in a future version. Use isinstance(dtype, CategoricalDtype) instead\n",
      "  if pd.api.types.is_categorical_dtype(vector):\n",
      "C:\\Users\\AWS_\\anaconda3\\envs\\streamlit39\\lib\\site-packages\\seaborn\\_oldcore.py:1498: FutureWarning: is_categorical_dtype is deprecated and will be removed in a future version. Use isinstance(dtype, CategoricalDtype) instead\n",
      "  if pd.api.types.is_categorical_dtype(vector):\n"
     ]
    },
    {
     "data": {
      "image/png": "[encoded data removed]",
      "text/plain": [
       "<Figure size 640x480 with 1 Axes>"
      ]
     },
     "metadata": {},
     "output_type": "display_data"
    }
   ],
   "source": [
    "sb.countplot(data = df, x = 'level')\n",
    "plt.show()"
   ]
  },
  {
   "cell_type": "code",
   "execution_count": 61,
   "id": "7ca7c904",
   "metadata": {
    "scrolled": false
   },
   "outputs": [
    {
     "data": {
      "image/png": "[encoded data removed]",
      "text/plain": [
       "<Figure size 640x480 with 1 Axes>"
      ]
     },
     "metadata": {},
     "output_type": "display_data"
    }
   ],
   "source": [
    "plt.hist(data = df, x = 'atk', rwidth = 0.8)\n",
    "plt.show()"
   ]
  },
  {
   "cell_type": "code",
   "execution_count": 62,
   "id": "ce9126c1",
   "metadata": {},
   "outputs": [
    {
     "data": {
      "image/png": "[encoded data removed]",
      "text/plain": [
       "<Figure size 640x480 with 1 Axes>"
      ]
     },
     "metadata": {},
     "output_type": "display_data"
    }
   ],
   "source": [
    "df['def'].hist(bins=20)\n",
    "plt.show()"
   ]
  },
  {
   "cell_type": "code",
   "execution_count": 63,
   "id": "4333d3b6",
   "metadata": {},
   "outputs": [],
   "source": [
    "df_corr = df.corr(numeric_only=True)"
   ]
  },
  {
   "cell_type": "code",
   "execution_count": 64,
   "id": "a5cb8fb9",
   "metadata": {},
   "outputs": [
    {
     "data": {
      "image/png": "[encoded data removed]",
      "text/plain": [
       "<Figure size 640x480 with 2 Axes>"
      ]
     },
     "metadata": {},
     "output_type": "display_data"
    }
   ],
   "source": [
    "sb.heatmap(data = df_corr, vmin = -1, vmax = 1, cmap = 'coolwarm',\n",
    "          annot = True, fmt = '.2f', linewidths=0.5)\n",
    "plt.show()"
   ]
  },
  {
   "cell_type": "code",
   "execution_count": null,
   "id": "4a0c5a5e",
   "metadata": {},
   "outputs": [],
   "source": []
  },
  {
   "cell_type": "code",
   "execution_count": null,
   "id": "f1433068",
   "metadata": {},
   "outputs": [],
   "source": []
  },
  {
   "cell_type": "code",
   "execution_count": null,
   "id": "d7df82d7",
   "metadata": {},
   "outputs": [],
   "source": []
  },
  {
   "cell_type": "code",
   "execution_count": null,
   "id": "bc1ab1c4",
   "metadata": {},
   "outputs": [],
   "source": []
  },
  {
   "cell_type": "code",
   "execution_count": null,
   "id": "dd3955b5",
   "metadata": {},
   "outputs": [],
   "source": []
  },
  {
   "cell_type": "code",
   "execution_count": null,
   "id": "02418acb",
   "metadata": {},
   "outputs": [],
   "source": []
  },
  {
   "cell_type": "code",
   "execution_count": null,
   "id": "4927ca02",
   "metadata": {},
   "outputs": [],
   "source": []
  },
  {
   "cell_type": "code",
   "execution_count": null,
   "id": "622604a8",
   "metadata": {},
   "outputs": [],
   "source": []
  },
  {
   "cell_type": "code",
   "execution_count": null,
   "id": "f14956db",
   "metadata": {},
   "outputs": [],
   "source": []
  },
  {
   "cell_type": "code",
   "execution_count": null,
   "id": "93de0569",
   "metadata": {},
   "outputs": [],
   "source": []
  },
  {
   "cell_type": "code",
   "execution_count": null,
   "id": "bf76cdd7",
   "metadata": {},
   "outputs": [],
   "source": []
  },
  {
   "cell_type": "code",
   "execution_count": null,
   "id": "ffe9d079",
   "metadata": {},
   "outputs": [],
   "source": []
  },
  {
   "cell_type": "code",
   "execution_count": null,
   "id": "a09b4d8a",
   "metadata": {},
   "outputs": [],
   "source": []
  },
  {
   "cell_type": "code",
   "execution_count": null,
   "id": "8ac3a357",
   "metadata": {},
   "outputs": [],
   "source": []
  },
  {
   "cell_type": "code",
   "execution_count": null,
   "id": "4d90bf60",
   "metadata": {},
   "outputs": [],
   "source": []
  },
  {
   "cell_type": "code",
   "execution_count": null,
   "id": "9d92b516",
   "metadata": {},
   "outputs": [],
   "source": []
  },
  {
   "cell_type": "code",
   "execution_count": null,
   "id": "ad09e22f",
   "metadata": {},
   "outputs": [],
   "source": []
  },
  {
   "cell_type": "code",
   "execution_count": null,
   "id": "bf83680b",
   "metadata": {},
   "outputs": [],
   "source": []
  },
  {
   "cell_type": "code",
   "execution_count": null,
   "id": "aef20cf6",
   "metadata": {},
   "outputs": [],
   "source": []
  },
  {
   "cell_type": "code",
   "execution_count": null,
   "id": "ee7bce0a",
   "metadata": {},
   "outputs": [],
   "source": []
  },
  {
   "cell_type": "code",
   "execution_count": null,
   "id": "51808140",
   "metadata": {},
   "outputs": [],
   "source": []
  },
  {
   "cell_type": "code",
   "execution_count": null,
   "id": "45816fa3",
   "metadata": {},
   "outputs": [],
   "source": []
  },
  {
   "cell_type": "code",
   "execution_count": null,
   "id": "32f8ad65",
   "metadata": {},
   "outputs": [],
   "source": []
  },
  {
   "cell_type": "code",
   "execution_count": null,
   "id": "9dd26138",
   "metadata": {},
   "outputs": [],
   "source": []
  },
  {
   "cell_type": "code",
   "execution_count": null,
   "id": "1845417f",
   "metadata": {},
   "outputs": [],
   "source": []
  },
  {
   "cell_type": "code",
   "execution_count": null,
   "id": "fe9f3796",
   "metadata": {},
   "outputs": [],
   "source": []
  },
  {
   "cell_type": "code",
   "execution_count": null,
   "id": "8a30103b",
   "metadata": {},
   "outputs": [],
   "source": []
  },
  {
   "cell_type": "code",
   "execution_count": null,
   "id": "6e67f112",
   "metadata": {},
   "outputs": [],
   "source": []
  },
  {
   "cell_type": "code",
   "execution_count": null,
   "id": "7d284c6c",
   "metadata": {},
   "outputs": [],
   "source": []
  },
  {
   "cell_type": "code",
   "execution_count": null,
   "id": "642f40fc",
   "metadata": {},
   "outputs": [],
   "source": []
  },
  {
   "cell_type": "code",
   "execution_count": null,
   "id": "2a29fd13",
   "metadata": {},
   "outputs": [],
   "source": []
  },
  {
   "cell_type": "code",
   "execution_count": null,
   "id": "f3a96afa",
   "metadata": {},
   "outputs": [],
   "source": []
  },
  {
   "cell_type": "code",
   "execution_count": null,
   "id": "454549be",
   "metadata": {},
   "outputs": [],
   "source": []
  }
 ],
 "metadata": {
  "kernelspec": {
   "display_name": "Python 3 (ipykernel)",
   "language": "python",
   "name": "python3"
  },
  "language_info": {
   "codemirror_mode": {
    "name": "ipython",
    "version": 3
   },
   "file_extension": ".py",
   "mimetype": "text/x-python",
   "name": "python",
   "nbconvert_exporter": "python",
   "pygments_lexer": "ipython3",
   "version": "3.9.18"
  }
 },
 "nbformat": 4,
 "nbformat_minor": 5
}
